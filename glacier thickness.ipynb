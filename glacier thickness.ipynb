{
 "cells": [
  {
   "cell_type": "markdown",
   "id": "b08da053-2fed-4b1c-9a85-24565771be43",
   "metadata": {},
   "source": [
    "## Calculate glacier thickness using BedMachine V5"
   ]
  },
  {
   "cell_type": "code",
   "execution_count": 1,
   "id": "77649ac1-fe63-4698-9e2d-e7a2012abbad",
   "metadata": {},
   "outputs": [],
   "source": [
    "import numpy as np\n",
    "import pandas as pd\n",
    "import xarray as xr"
   ]
  },
  {
   "cell_type": "code",
   "execution_count": 2,
   "id": "2802c686-b9f1-4d5b-aa76-04e01e7d1556",
   "metadata": {},
   "outputs": [],
   "source": [
    "# import BedMachine data\n",
    "melville_bed = xr.open_dataset('C:/Users/marie/Documents/PhD/Chapter_3/data/bathymetry/BedMachine_v5_regions/bedmachineV5_moorings_region.nc')"
   ]
  },
  {
   "cell_type": "code",
   "execution_count": 6,
   "id": "fb7d1f48-37e9-4c9e-8f52-7cbadc516db3",
   "metadata": {},
   "outputs": [],
   "source": [
    "rink_ice_front = melville_bed.sel(x=-411797, y=-1440594, method='nearest')\n",
    "ko_ice_front   = melville_bed.sel(x=-387839.71, y=-1474312.79, method='nearest')\n",
    "sver_ice_front = melville_bed.sel(x=-354945.04, y=-1526348.37, method='nearest')"
   ]
  },
  {
   "cell_type": "code",
   "execution_count": 20,
   "id": "e091a62a-0b66-4026-80a3-3340e4fc027b",
   "metadata": {},
   "outputs": [
    {
     "name": "stdout",
     "output_type": "stream",
     "text": [
      "rink ice thickness 286.0 m\n",
      "rink ice front bathymetry max depth -224.0 m\n",
      "rink glacier surface elevation 62.0 m\n"
     ]
    }
   ],
   "source": [
    "print(f'rink ice thickness {rink_ice_front.thickness.values.round()} m')\n",
    "print(f'rink ice front bathymetry max depth {rink_ice_front.bed.values.round()} m')\n",
    "print(f'rink glacier surface elevation {rink_ice_front.surface.values.round()} m')"
   ]
  },
  {
   "cell_type": "code",
   "execution_count": 21,
   "id": "c04ed502-95d7-43da-95de-7159bbc8e8d6",
   "metadata": {},
   "outputs": [
    {
     "name": "stdout",
     "output_type": "stream",
     "text": [
      "kong oscar ice thickness 871.0 m\n",
      "kong oscar ice front bathymetry max depth -754.0 m\n",
      "kong oscar glacier surface elevation 116.0 m\n"
     ]
    }
   ],
   "source": [
    "print(f'kong oscar ice thickness {ko_ice_front.thickness.values.round()} m')\n",
    "print(f'kong oscar ice front bathymetry max depth {ko_ice_front.bed.values.round()} m')\n",
    "print(f'kong oscar glacier surface elevation {ko_ice_front.surface.values.round()} m')"
   ]
  },
  {
   "cell_type": "code",
   "execution_count": 22,
   "id": "d718a446-13ba-4cad-a74e-d57edabb5765",
   "metadata": {},
   "outputs": [
    {
     "name": "stdout",
     "output_type": "stream",
     "text": [
      "sverdrup ice thickness 655.0 m\n",
      "sverdrup ice front bathymetry max depth -535.0 m\n",
      "sverdrup glacier surface elevation 120.0 m\n"
     ]
    }
   ],
   "source": [
    "print(f'sverdrup ice thickness {sver_ice_front.thickness.values.round()} m')\n",
    "print(f'sverdrup ice front bathymetry max depth {sver_ice_front.bed.values.round()} m')\n",
    "print(f'sverdrup glacier surface elevation {sver_ice_front.surface.values.round()} m')"
   ]
  },
  {
   "cell_type": "code",
   "execution_count": null,
   "id": "c600cadf-501d-4a07-8d8c-b865560e2e57",
   "metadata": {},
   "outputs": [],
   "source": []
  }
 ],
 "metadata": {
  "kernelspec": {
   "display_name": "Python 3 (ipykernel)",
   "language": "python",
   "name": "python3"
  },
  "language_info": {
   "codemirror_mode": {
    "name": "ipython",
    "version": 3
   },
   "file_extension": ".py",
   "mimetype": "text/x-python",
   "name": "python",
   "nbconvert_exporter": "python",
   "pygments_lexer": "ipython3",
   "version": "3.9.13"
  }
 },
 "nbformat": 4,
 "nbformat_minor": 5
}
